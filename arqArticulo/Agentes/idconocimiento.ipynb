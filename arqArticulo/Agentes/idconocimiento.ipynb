{
 "cells": [
  {
   "cell_type": "markdown",
   "metadata": {},
   "source": [
    "- identificacmos el nivel de conocimiento\n",
    "    - - nos sirve para poder identififcar temas en los que no tiene mucho conocimiento y y los que puede reforzar \n",
    "    - - nos ayuda a determinar la siguiente respuesta ya que en situaciones de LBT  puedes enseniale a alguien que no sabe mucho y esperar  preguntas y en caso de que sea enseniar a alguien experimentado buscas reforzar terminologias o logicas  \n",
    "            - --  nos ayuda a identificare el nivel de conocimiento que tendra el agente \n",
    "            - --- yo pienso que eso tbn ayudara a identidficar cuando cortar la conversacion y pasar a un siguiente tema  \n",
    "\n",
    "- Metricas : claro - comprensible -  nivel de detalle - hace conexiones - (terminos depende de nivel del agente o simplicidad)"
   ]
  },
  {
   "cell_type": "code",
   "execution_count": null,
   "metadata": {
    "vscode": {
     "languageId": "plaintext"
    }
   },
   "outputs": [],
   "source": []
  }
 ],
 "metadata": {
  "language_info": {
   "name": "python"
  }
 },
 "nbformat": 4,
 "nbformat_minor": 2
}
